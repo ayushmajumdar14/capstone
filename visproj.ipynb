{
  "nbformat": 4,
  "nbformat_minor": 0,
  "metadata": {
    "colab": {
      "provenance": []
    },
    "kernelspec": {
      "name": "python3",
      "display_name": "Python 3"
    },
    "language_info": {
      "name": "python"
    }
  },
  "cells": [
    {
      "cell_type": "code",
      "execution_count": 2,
      "metadata": {
        "colab": {
          "base_uri": "https://localhost:8080/"
        },
        "id": "W24fXSu_HLsB",
        "outputId": "46cad248-41b8-40cb-9696-da858f83a1d4"
      },
      "outputs": [
        {
          "output_type": "stream",
          "name": "stdout",
          "text": [
            "2006\n",
            "0\n"
          ]
        }
      ],
      "source": [
        "import requests\n",
        "import pandas as pd\n",
        "\n",
        "url = \"https://api.spacexdata.com/v4/launches\"\n",
        "response = requests.get(url)\n",
        "data = response.json()\n",
        "df = pd.json_normalize(data)\n",
        "year = pd.to_datetime(df.loc[0, 'static_fire_date_utc']).year\n",
        "print(year)\n",
        "falcon_9_launches = df[df['rocket'].apply(lambda x: 'Falcon 9' in x)].shape[0]\n",
        "falcon_1_launches = df[df['rocket'].apply(lambda x: 'Falcon 1' in x)].shape[0]\n",
        "falcon_9_excluding_falcon_1 = falcon_9_launches - falcon_1_launches\n",
        "print(falcon_9_excluding_falcon_1)\n",
        "\n"
      ]
    },
    {
      "cell_type": "code",
      "source": [
        "import requests\n",
        "import pandas as pd\n",
        "\n",
        "# Fetch data from the SpaceX API\n",
        "url = \"https://api.spacexdata.com/v4/launches\"\n",
        "response = requests.get(url)\n",
        "data = response.json()\n",
        "df = pd.json_normalize(data)\n",
        "\n",
        "# Print the columns to confirm the correct column name\n",
        "print(df.columns)\n",
        "\n",
        "# Extract the year from the first row in the 'static_fire_date_utc' column\n",
        "year = pd.to_datetime(df.loc[0, 'static_fire_date_utc']).year\n",
        "print(year)\n",
        "\n",
        "# Filter for Falcon 9 and Falcon 1 launches\n",
        "falcon_9_launches = df[df['rocket'].apply(lambda x: 'Falcon 9' in x)].shape[0]\n",
        "falcon_1_launches = df[df['rocket'].apply(lambda x: 'Falcon 1' in x)].shape[0]\n",
        "falcon_9_excluding_falcon_1 = falcon_9_launches - falcon_1_launches\n",
        "print(falcon_9_excluding_falcon_1)\n",
        "\n",
        "# Checking for possible variations of the landing pad column name\n",
        "possible_columns = [col for col in df.columns if 'land' in col.lower()]\n",
        "print(\"Possible columns for landing pad:\", possible_columns)\n",
        "\n",
        "# Count missing values in the identified landing pad column\n",
        "if possible_columns:\n",
        "    landing_pad_column = possible_columns[0]  # Assuming the first match is correct\n",
        "    missing_values = df[landing_pad_column].isnull().sum()\n",
        "    print(f\"Missing values in column '{landing_pad_column}':\", missing_values)\n",
        "else:\n",
        "    print(\"No column related to landing pad found.\")\n"
      ],
      "metadata": {
        "colab": {
          "base_uri": "https://localhost:8080/"
        },
        "id": "07u5MwWZRGn5",
        "outputId": "fbfb240f-0878-46bf-e0a3-1b95c0e7333e"
      },
      "execution_count": 6,
      "outputs": [
        {
          "output_type": "stream",
          "name": "stdout",
          "text": [
            "Index(['static_fire_date_utc', 'static_fire_date_unix', 'net', 'window',\n",
            "       'rocket', 'success', 'failures', 'details', 'crew', 'ships', 'capsules',\n",
            "       'payloads', 'launchpad', 'flight_number', 'name', 'date_utc',\n",
            "       'date_unix', 'date_local', 'date_precision', 'upcoming', 'cores',\n",
            "       'auto_update', 'tbd', 'launch_library_id', 'id', 'fairings.reused',\n",
            "       'fairings.recovery_attempt', 'fairings.recovered', 'fairings.ships',\n",
            "       'links.patch.small', 'links.patch.large', 'links.reddit.campaign',\n",
            "       'links.reddit.launch', 'links.reddit.media', 'links.reddit.recovery',\n",
            "       'links.flickr.small', 'links.flickr.original', 'links.presskit',\n",
            "       'links.webcast', 'links.youtube_id', 'links.article', 'links.wikipedia',\n",
            "       'fairings'],\n",
            "      dtype='object')\n",
            "2006\n",
            "0\n",
            "Possible columns for landing pad: []\n",
            "No column related to landing pad found.\n"
          ]
        }
      ]
    },
    {
      "cell_type": "code",
      "source": [
        "import folium\n",
        "\n",
        "# Create a map centered around a specific location (latitude and longitude)\n",
        "m = folium.Map(location=[37.7749, -122.4194], zoom_start=13)\n",
        "\n",
        "# Add a marker for a specific point\n",
        "folium.Marker(\n",
        "    location=[37.7749, -122.4194],\n",
        "    popup='San Francisco',\n",
        "    icon=folium.Icon(icon='cloud')\n",
        ").add_to(m)\n",
        "\n",
        "# Add a circle marker\n",
        "folium.CircleMarker(\n",
        "    location=[37.7749, -122.4294],\n",
        "    radius=50,\n",
        "    popup='Market Street',\n",
        "    color='#3186cc',\n",
        "    fill=True,\n",
        "    fill_color='#3186cc'\n",
        ").add_to(m)\n",
        "\n",
        "# Save the map to an HTML file\n",
        "m.save('interactive_map.html')\n",
        "\n",
        "# Display the map\n",
        "m\n"
      ],
      "metadata": {
        "id": "bNTkUs-rYLIY"
      },
      "execution_count": null,
      "outputs": []
    },
    {
      "cell_type": "code",
      "source": [
        "import plotly.express as px\n",
        "import pandas as pd\n",
        "\n",
        "# Sample data\n",
        "data = {\n",
        "    'City': ['San Francisco', 'Los Angeles', 'New York', 'Chicago', 'Houston'],\n",
        "    'Latitude': [37.7749, 34.0522, 40.7128, 41.8781, 29.7604],\n",
        "    'Longitude': [-122.4194, -118.2437, -74.0060, -87.6298, -95.3698],\n",
        "    'Population': [883305, 3999759, 8398748, 2705994, 2325502]\n",
        "}\n",
        "\n",
        "# Create a DataFrame\n",
        "df = pd.DataFrame(data)\n",
        "\n",
        "# Create a Plotly scatter mapbox\n",
        "fig = px.scatter_mapbox(\n",
        "    df,\n",
        "    lat='Latitude',\n",
        "    lon='Longitude',\n",
        "    size='Population',\n",
        "    hover_name='City',\n",
        "    hover_data={'Latitude': False, 'Longitude': False, 'Population': True},\n",
        "    color='Population',\n",
        "    color_continuous_scale=px.colors.cyclical.IceFire,\n",
        "    size_max=15,\n",
        "    zoom=3,\n",
        "    mapbox_style='carto-positron'\n",
        ")\n",
        "\n",
        "# Update layout\n",
        "fig.update_layout(\n",
        "    title='City Populations in the USA',\n",
        "    margin={\"r\":0,\"t\":0,\"l\":0,\"b\":0}\n",
        ")\n",
        "\n",
        "# Show the map\n",
        "fig.show()\n"
      ],
      "metadata": {
        "id": "I8W3dvu1Yre5"
      },
      "execution_count": null,
      "outputs": []
    }
  ]
}